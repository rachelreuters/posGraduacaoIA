{
 "cells": [
  {
   "cell_type": "markdown",
   "id": "c2a2abd0",
   "metadata": {},
   "source": [
    "# py 3.12, torch 2.6 e o transformers 4.52.4"
   ]
  },
  {
   "cell_type": "code",
   "execution_count": null,
   "id": "812de891",
   "metadata": {},
   "outputs": [
    {
     "name": "stdout",
     "output_type": "stream",
     "text": [
      "^C\n"
     ]
    },
    {
     "name": "stderr",
     "output_type": "stream",
     "text": [
      "ERROR: pip's dependency resolver does not currently take into account all the packages that are installed. This behaviour is the source of the following dependency conflicts.\n",
      "torchaudio 2.5.1 requires torch==2.5.1, but you have torch 2.6.0 which is incompatible.\n",
      "torchvision 0.20.1 requires torch==2.5.1, but you have torch 2.6.0 which is incompatible.\n"
     ]
    }
   ],
   "source": [
    "!pip install --quiet transformers[torch] sentencepiece datasets evaluate\n",
    "\n",
    "#conda install pytorch torchvision torchaudio pytorch-cuda=12.1 -c pytorch -c nvidia"
   ]
  },
  {
   "cell_type": "markdown",
   "id": "1291e8cd",
   "metadata": {},
   "source": [
    "# A biblioteca transformers :"
   ]
  },
  {
   "cell_type": "markdown",
   "id": "3f60ea94",
   "metadata": {},
   "source": [
    "# Pipeline seleciona um modelo pre treinado, faz download, tokeniza , roda o modelo encima do texto desejado e depois faz o pos processamento. "
   ]
  },
  {
   "cell_type": "code",
   "execution_count": 2,
   "id": "864bf68f",
   "metadata": {},
   "outputs": [
    {
     "name": "stderr",
     "output_type": "stream",
     "text": [
      "No model was supplied, defaulted to distilbert/distilbert-base-uncased-finetuned-sst-2-english and revision 714eb0f (https://huggingface.co/distilbert/distilbert-base-uncased-finetuned-sst-2-english).\n",
      "Using a pipeline without specifying a model name and revision in production is not recommended.\n",
      "Device set to use cuda:0\n"
     ]
    },
    {
     "data": {
      "text/plain": [
       "[{'label': 'POSITIVE', 'score': 0.9998635053634644}]"
      ]
     },
     "execution_count": 2,
     "metadata": {},
     "output_type": "execute_result"
    }
   ],
   "source": [
    "from transformers import pipeline\n",
    "\n",
    "analysis = pipeline(\"sentiment-analysis\")\n",
    "\n",
    "analysis(\"I feel so nice\")"
   ]
  },
  {
   "cell_type": "code",
   "execution_count": 3,
   "id": "011fbe40",
   "metadata": {},
   "outputs": [
    {
     "data": {
      "text/plain": [
       "[{'label': 'NEGATIVE', 'score': 0.9972702860832214}]"
      ]
     },
     "execution_count": 3,
     "metadata": {},
     "output_type": "execute_result"
    }
   ],
   "source": [
    "analysis(\"I am waiting for my grades\")"
   ]
  },
  {
   "cell_type": "code",
   "execution_count": 4,
   "id": "58124e56",
   "metadata": {},
   "outputs": [
    {
     "data": {
      "text/plain": [
       "[{'label': 'POSITIVE', 'score': 0.9972067475318909}]"
      ]
     },
     "execution_count": 4,
     "metadata": {},
     "output_type": "execute_result"
    }
   ],
   "source": [
    "analysis(\"I would like to study quantum physics\")"
   ]
  },
  {
   "cell_type": "markdown",
   "id": "1c124e92",
   "metadata": {},
   "source": [
    "# Eh possivel verificar a documentacao desse modelo  do hugging face: https://huggingface.co/tabularisai/multilingual-sentiment-analysis"
   ]
  },
  {
   "cell_type": "code",
   "execution_count": 5,
   "id": "086224da",
   "metadata": {},
   "outputs": [
    {
     "name": "stderr",
     "output_type": "stream",
     "text": [
      "Device set to use cuda:0\n"
     ]
    },
    {
     "data": {
      "text/plain": [
       "[{'label': 'Neutral', 'score': 0.2815445363521576}]"
      ]
     },
     "execution_count": 5,
     "metadata": {},
     "output_type": "execute_result"
    }
   ],
   "source": [
    "class_multilanguage = pipeline(\"text-classification\", model=\"tabularisai/multilingual-sentiment-analysis\")\n",
    "\n",
    "class_multilanguage(\"Hoje eh segunda feira\")"
   ]
  },
  {
   "cell_type": "code",
   "execution_count": 6,
   "id": "2c3f5a6a",
   "metadata": {},
   "outputs": [
    {
     "data": {
      "text/plain": [
       "[{'label': 'Very Positive', 'score': 0.6657947897911072}]"
      ]
     },
     "execution_count": 6,
     "metadata": {},
     "output_type": "execute_result"
    }
   ],
   "source": [
    "class_multilanguage(\"Estou feliz\")"
   ]
  },
  {
   "cell_type": "code",
   "execution_count": 7,
   "id": "561f926c",
   "metadata": {},
   "outputs": [
    {
     "name": "stdout",
     "output_type": "stream",
     "text": [
      "{'input_ids': [101, 1045, 1005, 2310, 2042, 3403, 2005, 2023, 2026, 2878, 2166, 1012, 102], 'attention_mask': [1, 1, 1, 1, 1, 1, 1, 1, 1, 1, 1, 1, 1]}\n"
     ]
    }
   ],
   "source": [
    "from transformers import AutoTokenizer\n",
    "\n",
    "check = \"distilbert-base-uncased-finetuned-sst-2-english\"\n",
    "\n",
    "tokenizer = AutoTokenizer.from_pretrained(check)\n",
    "\n",
    "tokens = tokenizer(\"I've been waiting for this my whole life.\")\n",
    "\n",
    "print(tokens)"
   ]
  },
  {
   "cell_type": "markdown",
   "id": "823cf308",
   "metadata": {},
   "source": [
    "# Classificacao zero-shot: permite classificar sem necessidade de exemplos rotulados no conjunto de dados treinados. Utiliza modelos que ja conhecem vasto vocabulario e conceitos, exemplo disso eh Transfer Learning."
   ]
  },
  {
   "cell_type": "code",
   "execution_count": 8,
   "id": "c2e8a3ba",
   "metadata": {},
   "outputs": [
    {
     "name": "stderr",
     "output_type": "stream",
     "text": [
      "No model was supplied, defaulted to facebook/bart-large-mnli and revision d7645e1 (https://huggingface.co/facebook/bart-large-mnli).\n",
      "Using a pipeline without specifying a model name and revision in production is not recommended.\n",
      "Device set to use cuda:0\n"
     ]
    },
    {
     "data": {
      "text/html": [
       "<div>\n",
       "<style scoped>\n",
       "    .dataframe tbody tr th:only-of-type {\n",
       "        vertical-align: middle;\n",
       "    }\n",
       "\n",
       "    .dataframe tbody tr th {\n",
       "        vertical-align: top;\n",
       "    }\n",
       "\n",
       "    .dataframe thead th {\n",
       "        text-align: right;\n",
       "    }\n",
       "</style>\n",
       "<table border=\"1\" class=\"dataframe\">\n",
       "  <thead>\n",
       "    <tr style=\"text-align: right;\">\n",
       "      <th></th>\n",
       "      <th>sequence</th>\n",
       "      <th>labels</th>\n",
       "      <th>scores</th>\n",
       "    </tr>\n",
       "  </thead>\n",
       "  <tbody>\n",
       "    <tr>\n",
       "      <th>0</th>\n",
       "      <td>This is a course about transformers library</td>\n",
       "      <td>education</td>\n",
       "      <td>0.867794</td>\n",
       "    </tr>\n",
       "    <tr>\n",
       "      <th>1</th>\n",
       "      <td>This is a course about transformers library</td>\n",
       "      <td>economy</td>\n",
       "      <td>0.064698</td>\n",
       "    </tr>\n",
       "    <tr>\n",
       "      <th>2</th>\n",
       "      <td>This is a course about transformers library</td>\n",
       "      <td>movies</td>\n",
       "      <td>0.043550</td>\n",
       "    </tr>\n",
       "    <tr>\n",
       "      <th>3</th>\n",
       "      <td>This is a course about transformers library</td>\n",
       "      <td>politics</td>\n",
       "      <td>0.023957</td>\n",
       "    </tr>\n",
       "  </tbody>\n",
       "</table>\n",
       "</div>"
      ],
      "text/plain": [
       "                                      sequence     labels    scores\n",
       "0  This is a course about transformers library  education  0.867794\n",
       "1  This is a course about transformers library    economy  0.064698\n",
       "2  This is a course about transformers library     movies  0.043550\n",
       "3  This is a course about transformers library   politics  0.023957"
      ]
     },
     "execution_count": 8,
     "metadata": {},
     "output_type": "execute_result"
    }
   ],
   "source": [
    "classificador_tf=pipeline(\"zero-shot-classification\")\n",
    "\n",
    "result = classificador_tf(\"This is a course about transformers library\",\n",
    "                          candidate_labels = [\"education\", \"politics\", \"economy\", \"movies\"])\n",
    "import pandas as pd \n",
    "\n",
    "pd.DataFrame(result)\n",
    "\n"
   ]
  },
  {
   "cell_type": "markdown",
   "id": "4a3b0ed7",
   "metadata": {},
   "source": [
    "# Pode ser usado para completar texto tambem, utiliza o GPT 2 pois era open source"
   ]
  },
  {
   "cell_type": "code",
   "execution_count": 9,
   "id": "aec87681",
   "metadata": {},
   "outputs": [
    {
     "name": "stderr",
     "output_type": "stream",
     "text": [
      "No model was supplied, defaulted to openai-community/gpt2 and revision 607a30d (https://huggingface.co/openai-community/gpt2).\n",
      "Using a pipeline without specifying a model name and revision in production is not recommended.\n",
      "Device set to use cuda:0\n",
      "Setting `pad_token_id` to `eos_token_id`:50256 for open-end generation.\n"
     ]
    },
    {
     "data": {
      "text/plain": [
       "[{'generated_text': 'In this course, we will teach how to \\xa0create a simple, easy to use and very intuitive 3D model of a real human body.\\nBuilding the Body\\nThe body is a complex, complex, complex object that is not always easy to understand. In order to understand how to construct and create a 3D model of our body, we will need to understand how to build the body by moving and moving.\\nWhen building a 3D model, you also need to understand how much energy is required to build a 3D model. In order to build a 3D model, you also need to understand the basic principles of drawing and drawing an object.\\nTo build a 3D model, you also need to understand how to create an object.\\nWe will start with creating a body object. As I mentioned in the beginning, this is just the basic object which we will use to build the 3D model.\\nYou will now start to create an object of the following types:\\nBody\\nBody with a unique shape.\\nBody with a unique shape of varying shape.\\nBody with a unique shape of being very small.\\nBody with a unique shape of being very large.\\nBody with a unique shape of being very large and very small.\\nBody with a unique shape of being very large'}]"
      ]
     },
     "execution_count": 9,
     "metadata": {},
     "output_type": "execute_result"
    }
   ],
   "source": [
    "generator = pipeline(\"text-generation\")\n",
    "\n",
    "generator(\"In this course, we will teach how to \")"
   ]
  },
  {
   "cell_type": "code",
   "execution_count": 10,
   "id": "a53b9a98",
   "metadata": {},
   "outputs": [
    {
     "name": "stdout",
     "output_type": "stream",
     "text": [
      "Is CUDA available? True\n",
      "Using device: cuda\n"
     ]
    }
   ],
   "source": [
    "import torch\n",
    "print(f\"Is CUDA available? {torch.cuda.is_available()}\")\n",
    "\n",
    "device = torch.device('cuda' if torch.cuda.is_available() else 'cpu')\n",
    "print(f'Using device: {device}')"
   ]
  },
  {
   "cell_type": "code",
   "execution_count": 11,
   "id": "49a8ff03",
   "metadata": {},
   "outputs": [
    {
     "name": "stdout",
     "output_type": "stream",
     "text": [
      "Olá, como você está? Eu sou o seu novo amigo. Sou um gato de rua e estou procurando alguém para me adotar, mas não sei por onde começar. Você pode me ajudar com isso?\n",
      "\n",
      "Claro, ficarei feliz em ajudá-lo a encontrar uma pessoa para adotar! Aqui estão algumas etapas que você pode seguir:\n",
      "\n",
      "1. Verifique as redes sociais: procure grupos ou páginas locais de adoção de animais nas redes sociais. Eles geralmente têm informações sobre abrigos locais, organizações sem fins lucrativos e outros recursos.\n",
      "\n",
      "2. Entre em contato com abrigos: entre em contato com abrigos locais ou organizações sem fins lucrativos que aceitam animais de estimação e pergunte se eles podem fornecer algum tipo de abrigo para animais de estimação. Muitas vezes, os abrigos oferecem serviços de acolhimento temporário, cuidados veterinários gratuitos e outras formas de apoio.\n",
      "\n",
      "3. Pergunte ao seu médico de atenção primária: Seu médico de atenção primária, também conhecido como clínico geral, é responsável por encaminhá-lo aos abrigos. Eles poderão recomendar um abrigo local ou organização sem fins lucrativos.\n",
      "\n",
      "4. Participe de eventos de adoção. : Participar de eventos de adoção é uma ótima maneira de conhecer pessoas que pensam como você, aprender mais sobre animais de estimação e até mesmo fazer novos amigos.\n",
      "\n",
      "5. Considere doar: Se você tiver tempo e recursos, considere doar para um abrigo local. Isso ajudará a apoiar sua causa e garantir que todos os animais sejam tratados da melhor forma possível.\n",
      "\n",
      "Lembre-se de sempre pesquisar antes de tomar qualquer decisão sobre quem adotar. Boa sorte!\n",
      "\n",
      "\n"
     ]
    }
   ],
   "source": [
    "from transformers import AutoModelForCausalLM, AutoTokenizer\n",
    "\n",
    "model_name = \"TucanoBR/Tucano-630m\"\n",
    "tokenizer = AutoTokenizer.from_pretrained(model_name)\n",
    "model = AutoModelForCausalLM.from_pretrained(model_name, trust_remote_code=True)\n",
    "\n",
    "text = \"Olá, como você está?\"\n",
    "inputs = tokenizer(text, return_tensors=\"pt\")\n",
    "output = model.generate(**inputs)\n",
    "print(tokenizer.decode(output[0], skip_special_tokens=True))"
   ]
  },
  {
   "cell_type": "code",
   "execution_count": 13,
   "id": "5284419a",
   "metadata": {},
   "outputs": [
    {
     "name": "stderr",
     "output_type": "stream",
     "text": [
      "Device set to use cuda:0\n",
      "Both `max_new_tokens` (=256) and `max_length`(=50) seem to have been set. `max_new_tokens` will take precedence. Please refer to the documentation for more information. (https://huggingface.co/docs/transformers/main/en/main_classes/text_generation)\n"
     ]
    },
    {
     "name": "stdout",
     "output_type": "stream",
     "text": [
      "[{'translation_text': 'O clima é bom hoje.'}]\n"
     ]
    }
   ],
   "source": [
    "from transformers import pipeline\n",
    "\n",
    "translator = pipeline(\"translation_en_to_pt\", model=\"unicamp-dl/translation-en-pt-t5\")\n",
    "\n",
    "# Tradução do inglês para o português\n",
    "entrada = \"Translate from English to Portuguese: The weather is nice today.\"\n",
    "resultado = translator(entrada, max_length=50)\n",
    "\n",
    "print(resultado)"
   ]
  }
 ],
 "metadata": {
  "kernelspec": {
   "display_name": "llmpy312",
   "language": "python",
   "name": "python3"
  },
  "language_info": {
   "codemirror_mode": {
    "name": "ipython",
    "version": 3
   },
   "file_extension": ".py",
   "mimetype": "text/x-python",
   "name": "python",
   "nbconvert_exporter": "python",
   "pygments_lexer": "ipython3",
   "version": "3.12.11"
  }
 },
 "nbformat": 4,
 "nbformat_minor": 5
}
