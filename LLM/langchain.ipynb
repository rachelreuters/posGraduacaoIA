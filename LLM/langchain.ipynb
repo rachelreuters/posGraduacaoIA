{
 "cells": [
  {
   "cell_type": "code",
   "execution_count": 21,
   "id": "381eae3f",
   "metadata": {},
   "outputs": [],
   "source": [
    "!pip install --quiet \"langchain < 0.99\" \"openai < 1.16.99\" \"httpx==0.27.2\" \"langchain_google_genai\""
   ]
  },
  {
   "cell_type": "code",
   "execution_count": 22,
   "id": "9e925aaa",
   "metadata": {},
   "outputs": [],
   "source": [
    "\n",
    "from langchain.prompts import (\n",
    "    ChatPromptTemplate,\n",
    "    SystemMessagePromptTemplate, \n",
    "    HumanMessagePromptTemplate\n",
    ")\n",
    "from langchain_google_genai import ChatGoogleGenerativeAI\n",
    "from langchain.chains import LLMChain, SequentialChain"
   ]
  },
  {
   "cell_type": "code",
   "execution_count": 23,
   "id": "ea727d93",
   "metadata": {},
   "outputs": [],
   "source": [
    "class TravelTemplate:\n",
    "    def __init__(self):\n",
    "        self.system_template = \"\"\"\n",
    "        You are a Brazilian travel agent that give good advices about travels around the world.\n",
    "        Customer request will be denoted by 4 hashtags.\n",
    "\n",
    "        Give your answer as list of places that they should visit. \n",
    "\n",
    "        For example:\n",
    "        #### O que fazer no Rio de Janeiro?\n",
    "           - no primeiro dia, checking no hotem\n",
    "           - vai para a praia de copacabana e experimente agua de coco\n",
    "        \"\"\"\n",
    "\n",
    "        self.human_template = \"\"\"\n",
    "        ####{request}\n",
    "        \"\"\"\n",
    "\n",
    "        self.system_message_prompt = SystemMessagePromptTemplate.from_template(self.system_template)\n",
    "        self.human_message_prompt = HumanMessagePromptTemplate.from_template(self.human_template)\n",
    "        self.chat_prompt = ChatPromptTemplate.from_messages([self.system_message_prompt, \n",
    "                                                            self.human_message_prompt])\n",
    "    \n",
    "\n"
   ]
  },
  {
   "cell_type": "code",
   "execution_count": 24,
   "id": "ba5d64bf",
   "metadata": {},
   "outputs": [
    {
     "name": "stdout",
     "output_type": "stream",
     "text": [
      "Requirement already satisfied: dotenv in c:\\users\\belch\\anaconda3\\envs\\llmpy312\\lib\\site-packages (0.9.9)\n",
      "Requirement already satisfied: python-dotenv in c:\\users\\belch\\anaconda3\\envs\\llmpy312\\lib\\site-packages (from dotenv) (1.1.0)\n"
     ]
    }
   ],
   "source": [
    "!pip install dotenv"
   ]
  },
  {
   "cell_type": "code",
   "execution_count": 25,
   "id": "faf192e8",
   "metadata": {},
   "outputs": [],
   "source": [
    "from dotenv import load_dotenv\n",
    "import os\n",
    "\n",
    "load_dotenv()\n",
    "api_key = os.getenv(\"API_GOOGLE\")\n",
    "\n",
    "travel_prompt = TravelTemplate()\n",
    "chat_model = ChatGoogleGenerativeAI(model=\"gemini-2.0-flash\", temperature=0.1, google_api_key=api_key)"
   ]
  },
  {
   "cell_type": "code",
   "execution_count": 26,
   "id": "45956bac",
   "metadata": {},
   "outputs": [],
   "source": [
    "parser = LLMChain(\n",
    "    llm=chat_model,\n",
    "    prompt=travel_prompt.chat_prompt,\n",
    "    output_key=\"travel_tips\"\n",
    ")\n",
    "\n",
    "chain = SequentialChain(\n",
    "    chains=[parser],\n",
    "    input_variables=[\"request\"],\n",
    "    output_variables=[\"travel_tips\"],\n",
    "    verbose=True\n",
    ")\n"
   ]
  },
  {
   "cell_type": "code",
   "execution_count": 27,
   "id": "2c6ffe15",
   "metadata": {},
   "outputs": [
    {
     "name": "stdout",
     "output_type": "stream",
     "text": [
      "\n",
      "\n",
      "\u001b[1m> Entering new SequentialChain chain...\u001b[0m\n",
      "\n",
      "\u001b[1m> Finished chain.\u001b[0m\n",
      "        Olá! Paris em julho é uma excelente escolha! Aqui estão algumas dicas para aproveitar ao máximo seus 10 dias na cidade luz:\n",
      "        \n",
      "        - **Torre Eiffel:** Comece sua viagem com o ícone de Paris. Reserve seus ingressos com antecedência para evitar filas e aproveite a vista panorâmica da cidade.\n",
      "        - **Museu do Louvre:** Dedique pelo menos meio dia para explorar este museu gigante. Não perca a Mona Lisa, a Vênus de Milo e outras obras-primas.\n",
      "        - **Catedral de Notre-Dame:** Mesmo em reconstrução, a catedral é um marco histórico impressionante. Caminhe pela área e admire sua arquitetura gótica.\n",
      "        - **Champs-Élysées e Arco do Triunfo:** Passeie pela famosa avenida Champs-Élysées, repleta de lojas e restaurantes, e chegue ao Arco do Triunfo, de onde você pode ter uma vista incrível da cidade.\n",
      "        - **Bairro de Montmartre e Sacré-Cœur:** Explore o charmoso bairro de Montmartre, lar de artistas e do Sacré-Cœur, uma basílica com uma vista deslumbrante de Paris.\n",
      "        - **Passeio de barco pelo Sena:** Relaxe e admire os principais pontos turísticos de Paris de uma perspectiva diferente em um passeio de barco pelo rio Sena.\n",
      "        - **Palácio de Versalhes:** Faça um bate e volta para o Palácio de Versalhes, a antiga residência da realeza francesa. Explore os jardins exuberantes e os salões opulentos.\n",
      "        - **Bairro Latino e Sorbonne:** Caminhe pelas ruas estreitas do Bairro Latino, lar da Universidade Sorbonne, e descubra livrarias, cafés e bistrôs charmosos.\n",
      "        - **Museu d'Orsay:** Visite este museu localizado em uma antiga estação de trem, que abriga uma coleção impressionante de arte impressionista e pós-impressionista.\n",
      "        - **Jardins de Luxemburgo:** Relaxe e aproveite a atmosfera tranquila dos Jardins de Luxemburgo, um dos parques mais bonitos de Paris.\n",
      "        - **Compras:** Aproveite para fazer compras em lojas de departamento como Galeries Lafayette e Printemps, ou explore as boutiques de luxo na Rue du Faubourg Saint-Honoré.\n",
      "        - **Gastronomia:** Experimente a culinária francesa em restaurantes tradicionais, bistrôs e cafés. Não deixe de provar croissants, macarons, queijos e vinhos locais.\n",
      "        - **Picnic:** Faça um piquenique em um dos parques de Paris, como o Parc des Buttes-Chaumont ou o Jardin des Tuileries, e desfrute de um momento relaxante ao ar livre.\n",
      "        - **Eventos de Verão:** Julho é um mês animado em Paris, com festivais de música, shows ao ar livre e eventos culturais. Consulte a programação local para aproveitar ao máximo sua viagem.\n",
      "        \n",
      "        Aproveite sua viagem a Paris! Se precisar de mais dicas ou informações, é só perguntar!\n"
     ]
    }
   ],
   "source": [
    "response = chain(\n",
    "    {\"request\": \"Gostaria de dicas de viagens para Paris em Julho. Viajarei 10 dias e gostaria de aproveitar a cidade\"},\n",
    "    return_only_outputs=True\n",
    ")\n",
    "\n",
    "print(response[\"travel_tips\"])"
   ]
  },
  {
   "cell_type": "code",
   "execution_count": 28,
   "id": "f7c8d038",
   "metadata": {},
   "outputs": [],
   "source": [
    "import logging\n",
    "logging.basicConfig(level=logging.INFO)"
   ]
  },
  {
   "cell_type": "code",
   "execution_count": 29,
   "id": "63b551ab",
   "metadata": {},
   "outputs": [],
   "source": [
    "class Agent:\n",
    "    def __init__(self, key, model=\"gemini-2.0-flash\", temperature=0.1):\n",
    "        self.key = key\n",
    "        self.model = model\n",
    "        self.temperature = temperature\n",
    "        self.logger = logging.getLogger(__name__)\n",
    "        self.chat_model = ChatGoogleGenerativeAI(model=model, temperature=temperature, google_api_key=key)\n",
    "\n",
    "    def get_tips(self, request):\n",
    "        travel_prompt = TravelTemplate()\n",
    "        parser = LLMChain(\n",
    "            llm=self.chat_model,\n",
    "            prompt=travel_prompt.chat_prompt,\n",
    "            output_key=\"travel_tips\"\n",
    "        )\n",
    "\n",
    "        chain = SequentialChain(\n",
    "            chains=[parser],\n",
    "            input_variables=[\"request\"],\n",
    "            output_variables=[\"travel_tips\"],\n",
    "            verbose=True\n",
    "        )\n",
    "        return chain({\"request\": request}, return_only_outputs=True)"
   ]
  },
  {
   "cell_type": "code",
   "execution_count": 30,
   "id": "a98b3f8c",
   "metadata": {},
   "outputs": [
    {
     "name": "stdout",
     "output_type": "stream",
     "text": [
      "\n",
      "\n",
      "\u001b[1m> Entering new SequentialChain chain...\u001b[0m\n",
      "\n",
      "\u001b[1m> Finished chain.\u001b[0m\n",
      "        Olá! Itu é uma cidade encantadora com muita história e beleza natural. Dez dias é um ótimo tempo para explorar a região com calma. Aqui está uma sugestão de roteiro para você aproveitar ao máximo:\n",
      "        \n",
      "        1.  **Centro Histórico de Itu:**\n",
      "            *   Comece explorando o centro histórico, onde você encontrará o famoso \"Orelhão Gigante\" e outros monumentos históricos.\n",
      "            *   Visite a Igreja Matriz de Nossa Senhora da Candelária, um belo exemplo da arquitetura religiosa da região.\n",
      "            *   Passeie pela Praça da Independência e admire os casarões antigos.\n",
      "        \n",
      "        2.  **Museu da Energia:**\n",
      "            *   Conheça a história da energia no Brasil e a importância de Itu nesse contexto.\n",
      "            *   O museu oferece exposições interativas e educativas para todas as idades.\n",
      "        \n",
      "        3.  **Fazenda do Chocolate:**\n",
      "            *   Desfrute de um dia em contato com a natureza, saboreando deliciosos chocolates artesanais.\n",
      "            *   A fazenda oferece atividades como passeios a cavalo e trilhas ecológicas.\n",
      "        \n",
      "        4.  **Estrada Parque:**\n",
      "            *   Faça um passeio pela Estrada Parque, uma rota cênica que liga Itu a Salto.\n",
      "            *   Aproveite para apreciar a paisagem e fazer paradas em pontos de interesse ao longo do caminho.\n",
      "        \n",
      "        5.  **Salto:**\n",
      "            *   Visite a cidade vizinha de Salto, conhecida por suas cachoeiras e belezas naturais.\n",
      "            *   Conheça o Parque do Salto, onde você pode admirar a impressionante cachoeira e fazer trilhas.\n",
      "        \n",
      "        6.  **Indaiatuba:**\n",
      "            *   Explore a cidade de Indaiatuba, que oferece uma variedade de opções de lazer e entretenimento.\n",
      "            *   Visite o Parque Ecológico, um espaço verde com lagos, trilhas e áreas de piquenique.\n",
      "        \n",
      "        7.  **Vinícolas da Região:**\n",
      "            *   Aproveite para conhecer as vinícolas da região e degustar vinhos de qualidade.\n",
      "            *   Algumas vinícolas oferecem visitas guiadas e degustações harmonizadas com pratos locais.\n",
      "        \n",
      "        8.  **Gastronomia Local:**\n",
      "            *   Experimente a culinária local em restaurantes e bares da região.\n",
      "            *   Prove pratos típicos como o \"afogado\", um ensopado de carne servido com pão.\n",
      "        \n",
      "        9.  **Compras de Artesanato:**\n",
      "            *   Visite as lojas de artesanato local e encontre lembranças únicas para levar para casa.\n",
      "            *   Itu é conhecida por seus produtos de madeira, cerâmica e tecelagem.\n",
      "        \n",
      "        10. **Relaxamento e Lazer:**\n",
      "            *   Reserve um tempo para relaxar em um dos hotéis fazenda da região, que oferecem piscinas, spas e outras atividades de lazer.\n",
      "            *   Aproveite para fazer caminhadas, andar de bicicleta ou simplesmente apreciar a tranquilidade do campo.\n",
      "        \n",
      "        Espero que este roteiro te ajude a planejar sua viagem para Itu e região! Se precisar de mais alguma informação ou sugestão, é só me perguntar.\n"
     ]
    }
   ],
   "source": [
    "pedido = \"Gostaria de viajar para Itu em São Paulo durante 10 dias. Gostaria de aproveitar a cidade e a região\"\n",
    "\n",
    "agent = Agent(api_key)\n",
    "\n",
    "response = agent.get_tips(pedido)\n",
    "print(response['travel_tips'])"
   ]
  }
 ],
 "metadata": {
  "kernelspec": {
   "display_name": "llmpy312",
   "language": "python",
   "name": "python3"
  },
  "language_info": {
   "codemirror_mode": {
    "name": "ipython",
    "version": 3
   },
   "file_extension": ".py",
   "mimetype": "text/x-python",
   "name": "python",
   "nbconvert_exporter": "python",
   "pygments_lexer": "ipython3",
   "version": "3.12.11"
  }
 },
 "nbformat": 4,
 "nbformat_minor": 5
}
