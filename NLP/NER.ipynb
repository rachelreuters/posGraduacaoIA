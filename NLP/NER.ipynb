{
 "cells": [
  {
   "cell_type": "code",
   "execution_count": 1,
   "id": "3be49774",
   "metadata": {},
   "outputs": [
    {
     "name": "stdout",
     "output_type": "stream",
     "text": [
      "Collecting pt-core-news-md==3.8.0\n",
      "  Downloading https://github.com/explosion/spacy-models/releases/download/pt_core_news_md-3.8.0/pt_core_news_md-3.8.0-py3-none-any.whl (42.4 MB)\n",
      "     ---------------------------------------- 0.0/42.4 MB ? eta -:--:--\n",
      "     ------ --------------------------------- 7.3/42.4 MB 37.8 MB/s eta 0:00:01\n",
      "     ----------- --------------------------- 12.8/42.4 MB 32.2 MB/s eta 0:00:01\n",
      "     ------------------- ------------------- 21.0/42.4 MB 34.9 MB/s eta 0:00:01\n",
      "     ------------------------ -------------- 26.7/42.4 MB 32.0 MB/s eta 0:00:01\n",
      "     ----------------------------- --------- 32.0/42.4 MB 30.3 MB/s eta 0:00:01\n",
      "     ----------------------------------- --- 39.1/42.4 MB 30.6 MB/s eta 0:00:01\n",
      "     --------------------------------------  42.2/42.4 MB 28.9 MB/s eta 0:00:01\n",
      "     --------------------------------------- 42.4/42.4 MB 27.2 MB/s eta 0:00:00\n",
      "Installing collected packages: pt-core-news-md\n",
      "Successfully installed pt-core-news-md-3.8.0\n",
      "\u001b[38;5;2m✔ Download and installation successful\u001b[0m\n",
      "You can now load the package via spacy.load('pt_core_news_md')\n"
     ]
    }
   ],
   "source": [
    "!python -m spacy download pt_core_news_md"
   ]
  },
  {
   "cell_type": "code",
   "execution_count": null,
   "id": "ec9cd6e2",
   "metadata": {},
   "outputs": [],
   "source": [
    "import spacy\n",
    "\n",
    "nlp = spacy.load(\"pt_core_news_md\")"
   ]
  },
  {
   "cell_type": "code",
   "execution_count": 5,
   "id": "40082821",
   "metadata": {},
   "outputs": [
    {
     "name": "stdout",
     "output_type": "stream",
     "text": [
      "A Uber MISC\n",
      "NYSE ORG\n",
      "UBER MISC\n",
      "iFood ORG\n",
      "Brasil LOC\n",
      "iFood MISC\n",
      "Uber MISC\n"
     ]
    }
   ],
   "source": [
    "doc = nlp(\"\"\"\n",
    "A Uber (NYSE:UBER) e o iFood anunciaram nesta quarta-feira \n",
    "uma parceria estratégica no Brasil. A colaboração, que entrará \n",
    "em operação no segundo semestre, permitirá a introdução de abas\n",
    " de mobilidade no aplicativo do iFood e de abas de entregas no \n",
    " aplicativo da Uber.\n",
    "\"\"\")\n",
    "\n",
    "for entity in doc.ents:\n",
    "    print(entity.text, entity.label_)\n"
   ]
  },
  {
   "cell_type": "code",
   "execution_count": 8,
   "id": "806d0181",
   "metadata": {},
   "outputs": [
    {
     "name": "stdout",
     "output_type": "stream",
     "text": [
      "0.8368197083473206\n",
      "0.8368197083473206\n",
      "0.3059433102607727\n"
     ]
    }
   ],
   "source": [
    "nlp = spacy.load(\"pt_core_news_md\")\n",
    "\n",
    "cachorro, gato, banana = nlp(u\"cachorro gato banana\")\n",
    "\n",
    "print(cachorro.similarity(gato))\n",
    "print(gato.similarity(cachorro))\n",
    "print(cachorro.similarity(banana))\n"
   ]
  }
 ],
 "metadata": {
  "kernelspec": {
   "display_name": "llm311",
   "language": "python",
   "name": "python3"
  },
  "language_info": {
   "codemirror_mode": {
    "name": "ipython",
    "version": 3
   },
   "file_extension": ".py",
   "mimetype": "text/x-python",
   "name": "python",
   "nbconvert_exporter": "python",
   "pygments_lexer": "ipython3",
   "version": "3.11.11"
  }
 },
 "nbformat": 4,
 "nbformat_minor": 5
}
