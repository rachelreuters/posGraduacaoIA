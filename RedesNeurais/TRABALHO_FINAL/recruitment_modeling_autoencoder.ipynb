{
 "cells": [
  {
   "cell_type": "code",
   "execution_count": 2,
   "metadata": {},
   "outputs": [],
   "source": [
    "from tensorflow import keras\n",
    "from tensorflow.keras import layers\n",
    "import pandas as pd\n",
    "\n",
    "\n",
    "recrutamento = pd.read_csv('recruitment_data.csv', sep=',', decimal='.')\n",
    "\n",
    "features = list(recrutamento.columns.values)\n",
    "classificacao = 'HiringDecision'\n",
    "\n",
    "# features.remove('PreviousCompanies')\n",
    "# features.remove('Age')\n",
    "# features.remove('Gender')\n",
    "# features.remove('DistanceFromCompany')\n",
    "\n",
    "#Remove o output\n",
    "features.remove(classificacao)\n",
    "\n",
    "X = recrutamento[features].to_numpy() \n",
    "Y = recrutamento[classificacao].to_numpy() \n",
    "\n",
    "#IMPLEMENTANDO O RANDOMFOREST SEM BALANCEAMENTO\n",
    "import pandas as pd\n",
    "from sklearn.model_selection import train_test_split\n",
    "\n",
    "# Divisão da base de dados entre treinamento e teste (30% para testar e 70% para treinar)\n",
    "X_treinamento, X_teste, y_treinamento, y_teste = train_test_split(X,\n",
    "                                                                  Y,\n",
    "                                                                  test_size = 0.3,\n",
    "                                                                  random_state = 22)\n",
    "\n",
    "\n",
    "\n"
   ]
  },
  {
   "cell_type": "code",
   "execution_count": 4,
   "metadata": {},
   "outputs": [],
   "source": [
    "from tensorflow.keras.models import Sequential\n",
    "\n",
    "autoencoder = Sequential([\n",
    "    layers.Dense(5, activation='relu', input_shape=(X_treinamento.shape[1],)),\n",
    "    layers.Dense(1, activation='relu', name='bottleneck'),\n",
    "    layers.Dense(5, activation='relu'),\n",
    "    layers.Dense(X_treinamento.shape[1], activation='sigmoid')\n",
    "])\n",
    "\n",
    "autoencoder.compile(optimizer='rmsprop', loss='binary_crossentropy')\n",
    "\n",
    "# Treinar o autoencoder\n",
    "autoencoder.fit(X_treinamento, X_treinamento, epochs=500, batch_size=32, validation_data=(X_teste, X_teste), verbose=0)\n",
    "\n",
    "# Extrair as características do codificador\n",
    "encoder = Sequential(autoencoder.layers[:2])\n",
    "X_train_encoded = encoder.predict(X_treinamento)\n",
    "X_test_encoded = encoder.predict(X_teste)\n",
    "\n"
   ]
  },
  {
   "cell_type": "code",
   "execution_count": 10,
   "metadata": {},
   "outputs": [
    {
     "name": "stdout",
     "output_type": "stream",
     "text": [
      "Acurácia: 0.63\n"
     ]
    }
   ],
   "source": [
    "# Treinar um classificador com as características extraídas\n",
    "from sklearn.metrics import accuracy_score\n",
    "from sklearn.ensemble import RandomForestClassifier\n",
    "\n",
    "\n",
    "classifier = RandomForestClassifier()\n",
    "classifier.fit(X_train_encoded, y_treinamento)\n",
    "\n",
    "# Avaliar o classificador\n",
    "y_pred = classifier.predict(X_test_encoded)\n",
    "accuracy = accuracy_score(y_teste, y_pred)\n",
    "print(f'Acurácia: {accuracy:.2f}')"
   ]
  }
 ],
 "metadata": {
  "kernelspec": {
   "display_name": "venv",
   "language": "python",
   "name": "python3"
  },
  "language_info": {
   "codemirror_mode": {
    "name": "ipython",
    "version": 3
   },
   "file_extension": ".py",
   "mimetype": "text/x-python",
   "name": "python",
   "nbconvert_exporter": "python",
   "pygments_lexer": "ipython3",
   "version": "3.7.12"
  }
 },
 "nbformat": 4,
 "nbformat_minor": 2
}
