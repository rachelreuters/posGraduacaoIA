{
 "cells": [
  {
   "cell_type": "code",
   "execution_count": 2,
   "id": "2c0b6a86-8c9f-4863-b29c-34b523a4015c",
   "metadata": {},
   "outputs": [
    {
     "data": {
      "text/html": [
       "<pre style=\"white-space:pre;overflow-x:auto;line-height:normal;font-family:Menlo,'DejaVu Sans Mono',consolas,'Courier New',monospace\"><span style=\"color: #7fbfbf; text-decoration-color: #7fbfbf\">[03/17/25 20:19:30] </span><span style=\"color: #000080; text-decoration-color: #000080\">INFO    </span> Loading data from <span style=\"color: #ff8700; text-decoration-color: #ff8700\">deputados</span> <span style=\"font-weight: bold\">(</span>CSVDataset<span style=\"font-weight: bold\">)</span><span style=\"color: #808000; text-decoration-color: #808000\">...</span>                        <a href=\"file://C:\\Users\\belch\\anaconda3\\envs\\kedro_env\\lib\\site-packages\\kedro\\io\\data_catalog.py\" target=\"_blank\"><span style=\"color: #7f7f7f; text-decoration-color: #7f7f7f\">data_catalog.py</span></a><span style=\"color: #7f7f7f; text-decoration-color: #7f7f7f\">:</span><a href=\"file://C:\\Users\\belch\\anaconda3\\envs\\kedro_env\\lib\\site-packages\\kedro\\io\\data_catalog.py#390\" target=\"_blank\"><span style=\"color: #7f7f7f; text-decoration-color: #7f7f7f\">390</span></a>\n",
       "</pre>\n"
      ],
      "text/plain": [
       "\u001b[2;36m[03/17/25 20:19:30]\u001b[0m\u001b[2;36m \u001b[0m\u001b[34mINFO    \u001b[0m Loading data from \u001b[38;5;208mdeputados\u001b[0m \u001b[1m(\u001b[0mCSVDataset\u001b[1m)\u001b[0m\u001b[33m...\u001b[0m                        \u001b]8;id=217384;file://C:\\Users\\belch\\anaconda3\\envs\\kedro_env\\lib\\site-packages\\kedro\\io\\data_catalog.py\u001b\\\u001b[2mdata_catalog.py\u001b[0m\u001b]8;;\u001b\\\u001b[2m:\u001b[0m\u001b]8;id=291622;file://C:\\Users\\belch\\anaconda3\\envs\\kedro_env\\lib\\site-packages\\kedro\\io\\data_catalog.py#390\u001b\\\u001b[2m390\u001b[0m\u001b]8;;\u001b\\\n"
      ]
     },
     "metadata": {},
     "output_type": "display_data"
    }
   ],
   "source": [
    "deputados = catalog.load(\"deputados\")\n"
   ]
  },
  {
   "cell_type": "code",
   "execution_count": 3,
   "id": "aa7be752-f256-4d7e-a41c-6443d6a499e5",
   "metadata": {},
   "outputs": [],
   "source": [
    "sumarizado = deputados.groupby('siglaPartido').size().sort_values(ascending=False)"
   ]
  },
  {
   "cell_type": "code",
   "execution_count": 4,
   "id": "6baae2cf-2597-444d-bc5c-4e48af601532",
   "metadata": {},
   "outputs": [
    {
     "data": {
      "text/html": [
       "<pre style=\"white-space:pre;overflow-x:auto;line-height:normal;font-family:Menlo,'DejaVu Sans Mono',consolas,'Courier New',monospace\"></pre>\n"
      ],
      "text/plain": []
     },
     "metadata": {},
     "output_type": "display_data"
    },
    {
     "data": {
      "text/plain": [
       "\n",
       "siglaPartido\n",
       "PL               \u001b[1;36m92\u001b[0m\n",
       "PT               \u001b[1;36m67\u001b[0m\n",
       "UNIÃO            \u001b[1;36m59\u001b[0m\n",
       "PP               \u001b[1;36m50\u001b[0m\n",
       "MDB              \u001b[1;36m44\u001b[0m\n",
       "PSD              \u001b[1;36m44\u001b[0m\n",
       "REPUBLICANOS     \u001b[1;36m44\u001b[0m\n",
       "PDT              \u001b[1;36m18\u001b[0m\n",
       "PSB              \u001b[1;36m15\u001b[0m\n",
       "PODE             \u001b[1;36m14\u001b[0m\n",
       "PSDB             \u001b[1;36m13\u001b[0m\n",
       "PSOL             \u001b[1;36m13\u001b[0m\n",
       "PCdoB             \u001b[1;36m8\u001b[0m\n",
       "AVANTE            \u001b[1;36m7\u001b[0m\n",
       "PV                \u001b[1;36m5\u001b[0m\n",
       "SOLIDARIEDADE     \u001b[1;36m5\u001b[0m\n",
       "PRD               \u001b[1;36m5\u001b[0m\n",
       "NOVO              \u001b[1;36m4\u001b[0m\n",
       "CIDADANIA         \u001b[1;36m4\u001b[0m\n",
       "REDE              \u001b[1;36m1\u001b[0m\n",
       "S.PART.           \u001b[1;36m1\u001b[0m\n",
       "dtype: int64"
      ]
     },
     "execution_count": 4,
     "metadata": {},
     "output_type": "execute_result"
    }
   ],
   "source": [
    "sumarizado"
   ]
  },
  {
   "cell_type": "code",
   "execution_count": null,
   "id": "f9f67a4a-53a7-46b2-b872-e01b103c40db",
   "metadata": {},
   "outputs": [],
   "source": []
  },
  {
   "cell_type": "code",
   "execution_count": null,
   "id": "9f3fffba-dab3-4d74-9771-6a09c78bc4cf",
   "metadata": {},
   "outputs": [],
   "source": []
  },
  {
   "cell_type": "code",
   "execution_count": null,
   "id": "81a01f45-a32d-45d9-a8fc-0e01d7325677",
   "metadata": {},
   "outputs": [],
   "source": []
  }
 ],
 "metadata": {
  "kernelspec": {
   "display_name": "Kedro (exemplokedro)",
   "language": "python",
   "name": "kedro_exemplokedro"
  },
  "language_info": {
   "codemirror_mode": {
    "name": "ipython",
    "version": 3
   },
   "file_extension": ".py",
   "mimetype": "text/x-python",
   "name": "python",
   "nbconvert_exporter": "python",
   "pygments_lexer": "ipython3",
   "version": "3.9.21"
  }
 },
 "nbformat": 4,
 "nbformat_minor": 5
}
