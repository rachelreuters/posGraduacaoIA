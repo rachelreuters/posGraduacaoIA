{
 "cells": [
  {
   "cell_type": "code",
   "execution_count": 5,
   "id": "2f021f47-4884-4720-9ed7-fb692b82f8ea",
   "metadata": {
    "editable": true,
    "slideshow": {
     "slide_type": ""
    },
    "tags": []
   },
   "outputs": [
    {
     "data": {
      "text/html": [
       "<pre style=\"white-space:pre;overflow-x:auto;line-height:normal;font-family:Menlo,'DejaVu Sans Mono',consolas,'Courier New',monospace\"></pre>\n"
      ],
      "text/plain": []
     },
     "metadata": {},
     "output_type": "display_data"
    }
   ],
   "source": [
    "import requests\n",
    "import pandas as pd\n",
    "\n",
    "resp = requests.get(\"https://dadosabertos.camara.leg.br/api/v2/deputados\")\n",
    "data= resp.json()\n",
    "\n",
    "df_data = pd.DataFrame(data[\"dados\"])\n"
   ]
  },
  {
   "cell_type": "code",
   "execution_count": 3,
   "id": "8a3bfa4a-0fb6-4746-9e3f-c537da511639",
   "metadata": {},
   "outputs": [
    {
     "data": {
      "text/html": [
       "<pre style=\"white-space:pre;overflow-x:auto;line-height:normal;font-family:Menlo,'DejaVu Sans Mono',consolas,'Courier New',monospace\"></pre>\n"
      ],
      "text/plain": []
     },
     "metadata": {},
     "output_type": "display_data"
    },
    {
     "data": {
      "text/html": [
       "<div>\n",
       "<style scoped>\n",
       "    .dataframe tbody tr th:only-of-type {\n",
       "        vertical-align: middle;\n",
       "    }\n",
       "\n",
       "    .dataframe tbody tr th {\n",
       "        vertical-align: top;\n",
       "    }\n",
       "\n",
       "    .dataframe thead th {\n",
       "        text-align: right;\n",
       "    }\n",
       "</style>\n",
       "<table border=\"1\" class=\"dataframe\">\n",
       "  <thead>\n",
       "    <tr style=\"text-align: right;\">\n",
       "      <th></th>\n",
       "      <th>id</th>\n",
       "      <th>uri</th>\n",
       "      <th>nome</th>\n",
       "      <th>siglaPartido</th>\n",
       "      <th>uriPartido</th>\n",
       "      <th>siglaUf</th>\n",
       "      <th>idLegislatura</th>\n",
       "      <th>urlFoto</th>\n",
       "      <th>email</th>\n",
       "    </tr>\n",
       "  </thead>\n",
       "  <tbody>\n",
       "    <tr>\n",
       "      <th>0</th>\n",
       "      <td>204379</td>\n",
       "      <td>https://dadosabertos.camara.leg.br/api/v2/depu...</td>\n",
       "      <td>Acácio Favacho</td>\n",
       "      <td>MDB</td>\n",
       "      <td>https://dadosabertos.camara.leg.br/api/v2/part...</td>\n",
       "      <td>AP</td>\n",
       "      <td>57</td>\n",
       "      <td>https://www.camara.leg.br/internet/deputado/ba...</td>\n",
       "      <td>dep.acaciofavacho@camara.leg.br</td>\n",
       "    </tr>\n",
       "    <tr>\n",
       "      <th>1</th>\n",
       "      <td>220714</td>\n",
       "      <td>https://dadosabertos.camara.leg.br/api/v2/depu...</td>\n",
       "      <td>Adail Filho</td>\n",
       "      <td>REPUBLICANOS</td>\n",
       "      <td>https://dadosabertos.camara.leg.br/api/v2/part...</td>\n",
       "      <td>AM</td>\n",
       "      <td>57</td>\n",
       "      <td>https://www.camara.leg.br/internet/deputado/ba...</td>\n",
       "      <td>dep.adailfilho@camara.leg.br</td>\n",
       "    </tr>\n",
       "    <tr>\n",
       "      <th>2</th>\n",
       "      <td>221328</td>\n",
       "      <td>https://dadosabertos.camara.leg.br/api/v2/depu...</td>\n",
       "      <td>Adilson Barroso</td>\n",
       "      <td>PL</td>\n",
       "      <td>https://dadosabertos.camara.leg.br/api/v2/part...</td>\n",
       "      <td>SP</td>\n",
       "      <td>57</td>\n",
       "      <td>https://www.camara.leg.br/internet/deputado/ba...</td>\n",
       "      <td>dep.adilsonbarroso@camara.leg.br</td>\n",
       "    </tr>\n",
       "    <tr>\n",
       "      <th>3</th>\n",
       "      <td>204560</td>\n",
       "      <td>https://dadosabertos.camara.leg.br/api/v2/depu...</td>\n",
       "      <td>Adolfo Viana</td>\n",
       "      <td>PSDB</td>\n",
       "      <td>https://dadosabertos.camara.leg.br/api/v2/part...</td>\n",
       "      <td>BA</td>\n",
       "      <td>57</td>\n",
       "      <td>https://www.camara.leg.br/internet/deputado/ba...</td>\n",
       "      <td>dep.adolfoviana@camara.leg.br</td>\n",
       "    </tr>\n",
       "    <tr>\n",
       "      <th>4</th>\n",
       "      <td>204528</td>\n",
       "      <td>https://dadosabertos.camara.leg.br/api/v2/depu...</td>\n",
       "      <td>Adriana Ventura</td>\n",
       "      <td>NOVO</td>\n",
       "      <td>https://dadosabertos.camara.leg.br/api/v2/part...</td>\n",
       "      <td>SP</td>\n",
       "      <td>57</td>\n",
       "      <td>https://www.camara.leg.br/internet/deputado/ba...</td>\n",
       "      <td>dep.adrianaventura@camara.leg.br</td>\n",
       "    </tr>\n",
       "    <tr>\n",
       "      <th>...</th>\n",
       "      <td>...</td>\n",
       "      <td>...</td>\n",
       "      <td>...</td>\n",
       "      <td>...</td>\n",
       "      <td>...</td>\n",
       "      <td>...</td>\n",
       "      <td>...</td>\n",
       "      <td>...</td>\n",
       "      <td>...</td>\n",
       "    </tr>\n",
       "    <tr>\n",
       "      <th>508</th>\n",
       "      <td>220558</td>\n",
       "      <td>https://dadosabertos.camara.leg.br/api/v2/depu...</td>\n",
       "      <td>Zé Trovão</td>\n",
       "      <td>PL</td>\n",
       "      <td>https://dadosabertos.camara.leg.br/api/v2/part...</td>\n",
       "      <td>SC</td>\n",
       "      <td>57</td>\n",
       "      <td>https://www.camara.leg.br/internet/deputado/ba...</td>\n",
       "      <td>dep.zetrovao@camara.leg.br</td>\n",
       "    </tr>\n",
       "    <tr>\n",
       "      <th>509</th>\n",
       "      <td>204517</td>\n",
       "      <td>https://dadosabertos.camara.leg.br/api/v2/depu...</td>\n",
       "      <td>Zé Vitor</td>\n",
       "      <td>PL</td>\n",
       "      <td>https://dadosabertos.camara.leg.br/api/v2/part...</td>\n",
       "      <td>MG</td>\n",
       "      <td>57</td>\n",
       "      <td>https://www.camara.leg.br/internet/deputado/ba...</td>\n",
       "      <td>dep.zevitor@camara.leg.br</td>\n",
       "    </tr>\n",
       "    <tr>\n",
       "      <th>510</th>\n",
       "      <td>160592</td>\n",
       "      <td>https://dadosabertos.camara.leg.br/api/v2/depu...</td>\n",
       "      <td>Zeca Dirceu</td>\n",
       "      <td>PT</td>\n",
       "      <td>https://dadosabertos.camara.leg.br/api/v2/part...</td>\n",
       "      <td>PR</td>\n",
       "      <td>57</td>\n",
       "      <td>https://www.camara.leg.br/internet/deputado/ba...</td>\n",
       "      <td>dep.zecadirceu@camara.leg.br</td>\n",
       "    </tr>\n",
       "    <tr>\n",
       "      <th>511</th>\n",
       "      <td>220592</td>\n",
       "      <td>https://dadosabertos.camara.leg.br/api/v2/depu...</td>\n",
       "      <td>Zezinho Barbary</td>\n",
       "      <td>PP</td>\n",
       "      <td>https://dadosabertos.camara.leg.br/api/v2/part...</td>\n",
       "      <td>AC</td>\n",
       "      <td>57</td>\n",
       "      <td>https://www.camara.leg.br/internet/deputado/ba...</td>\n",
       "      <td>dep.zezinhobarbary@camara.leg.br</td>\n",
       "    </tr>\n",
       "    <tr>\n",
       "      <th>512</th>\n",
       "      <td>220552</td>\n",
       "      <td>https://dadosabertos.camara.leg.br/api/v2/depu...</td>\n",
       "      <td>Zucco</td>\n",
       "      <td>PL</td>\n",
       "      <td>https://dadosabertos.camara.leg.br/api/v2/part...</td>\n",
       "      <td>RS</td>\n",
       "      <td>57</td>\n",
       "      <td>https://www.camara.leg.br/internet/deputado/ba...</td>\n",
       "      <td>dep.zucco@camara.leg.br</td>\n",
       "    </tr>\n",
       "  </tbody>\n",
       "</table>\n",
       "<p>513 rows × 9 columns</p>\n",
       "</div>"
      ],
      "text/plain": [
       "\n",
       "         id                                                uri  \\\n",
       "\u001b[1;36m0\u001b[0m    \u001b[1;36m204379\u001b[0m  \u001b[4;94mhttps://dadosabertos.camara.leg.br/api/v2/depu...\u001b[0m   \n",
       "\u001b[1;36m1\u001b[0m    \u001b[1;36m220714\u001b[0m  \u001b[4;94mhttps://dadosabertos.camara.leg.br/api/v2/depu...\u001b[0m   \n",
       "\u001b[1;36m2\u001b[0m    \u001b[1;36m221328\u001b[0m  \u001b[4;94mhttps://dadosabertos.camara.leg.br/api/v2/depu...\u001b[0m   \n",
       "\u001b[1;36m3\u001b[0m    \u001b[1;36m204560\u001b[0m  \u001b[4;94mhttps://dadosabertos.camara.leg.br/api/v2/depu...\u001b[0m   \n",
       "\u001b[1;36m4\u001b[0m    \u001b[1;36m204528\u001b[0m  \u001b[4;94mhttps://dadosabertos.camara.leg.br/api/v2/depu...\u001b[0m   \n",
       "..      \u001b[33m...\u001b[0m                                                \u001b[33m...\u001b[0m   \n",
       "\u001b[1;36m508\u001b[0m  \u001b[1;36m220558\u001b[0m  \u001b[4;94mhttps://dadosabertos.camara.leg.br/api/v2/depu...\u001b[0m   \n",
       "\u001b[1;36m509\u001b[0m  \u001b[1;36m204517\u001b[0m  \u001b[4;94mhttps://dadosabertos.camara.leg.br/api/v2/depu...\u001b[0m   \n",
       "\u001b[1;36m510\u001b[0m  \u001b[1;36m160592\u001b[0m  \u001b[4;94mhttps://dadosabertos.camara.leg.br/api/v2/depu...\u001b[0m   \n",
       "\u001b[1;36m511\u001b[0m  \u001b[1;36m220592\u001b[0m  \u001b[4;94mhttps://dadosabertos.camara.leg.br/api/v2/depu...\u001b[0m   \n",
       "\u001b[1;36m512\u001b[0m  \u001b[1;36m220552\u001b[0m  \u001b[4;94mhttps://dadosabertos.camara.leg.br/api/v2/depu...\u001b[0m   \n",
       "\n",
       "                nome  siglaPartido  \\\n",
       "\u001b[1;36m0\u001b[0m     Acácio Favacho           MDB   \n",
       "\u001b[1;36m1\u001b[0m        Adail Filho  REPUBLICANOS   \n",
       "\u001b[1;36m2\u001b[0m    Adilson Barroso            PL   \n",
       "\u001b[1;36m3\u001b[0m       Adolfo Viana          PSDB   \n",
       "\u001b[1;36m4\u001b[0m    Adriana Ventura          NOVO   \n",
       "..               \u001b[33m...\u001b[0m           \u001b[33m...\u001b[0m   \n",
       "\u001b[1;36m508\u001b[0m        Zé Trovão            PL   \n",
       "\u001b[1;36m509\u001b[0m         Zé Vitor            PL   \n",
       "\u001b[1;36m510\u001b[0m      Zeca Dirceu            PT   \n",
       "\u001b[1;36m511\u001b[0m  Zezinho Barbary            PP   \n",
       "\u001b[1;36m512\u001b[0m            Zucco            PL   \n",
       "\n",
       "                                            uriPartido siglaUf  idLegislatura  \\\n",
       "\u001b[1;36m0\u001b[0m    \u001b[4;94mhttps://dadosabertos.camara.leg.br/api/v2/part...\u001b[0m      AP             \u001b[1;36m57\u001b[0m   \n",
       "\u001b[1;36m1\u001b[0m    \u001b[4;94mhttps://dadosabertos.camara.leg.br/api/v2/part...\u001b[0m      AM             \u001b[1;36m57\u001b[0m   \n",
       "\u001b[1;36m2\u001b[0m    \u001b[4;94mhttps://dadosabertos.camara.leg.br/api/v2/part...\u001b[0m      SP             \u001b[1;36m57\u001b[0m   \n",
       "\u001b[1;36m3\u001b[0m    \u001b[4;94mhttps://dadosabertos.camara.leg.br/api/v2/part...\u001b[0m      BA             \u001b[1;36m57\u001b[0m   \n",
       "\u001b[1;36m4\u001b[0m    \u001b[4;94mhttps://dadosabertos.camara.leg.br/api/v2/part...\u001b[0m      SP             \u001b[1;36m57\u001b[0m   \n",
       "..                                                 \u001b[33m...\u001b[0m     \u001b[33m...\u001b[0m            \u001b[33m...\u001b[0m   \n",
       "\u001b[1;36m508\u001b[0m  \u001b[4;94mhttps://dadosabertos.camara.leg.br/api/v2/part...\u001b[0m      SC             \u001b[1;36m57\u001b[0m   \n",
       "\u001b[1;36m509\u001b[0m  \u001b[4;94mhttps://dadosabertos.camara.leg.br/api/v2/part...\u001b[0m      MG             \u001b[1;36m57\u001b[0m   \n",
       "\u001b[1;36m510\u001b[0m  \u001b[4;94mhttps://dadosabertos.camara.leg.br/api/v2/part...\u001b[0m      PR             \u001b[1;36m57\u001b[0m   \n",
       "\u001b[1;36m511\u001b[0m  \u001b[4;94mhttps://dadosabertos.camara.leg.br/api/v2/part...\u001b[0m      AC             \u001b[1;36m57\u001b[0m   \n",
       "\u001b[1;36m512\u001b[0m  \u001b[4;94mhttps://dadosabertos.camara.leg.br/api/v2/part...\u001b[0m      RS             \u001b[1;36m57\u001b[0m   \n",
       "\n",
       "                                               urlFoto  \\\n",
       "\u001b[1;36m0\u001b[0m    \u001b[4;94mhttps://www.camara.leg.br/internet/deputado/ba...\u001b[0m   \n",
       "\u001b[1;36m1\u001b[0m    \u001b[4;94mhttps://www.camara.leg.br/internet/deputado/ba...\u001b[0m   \n",
       "\u001b[1;36m2\u001b[0m    \u001b[4;94mhttps://www.camara.leg.br/internet/deputado/ba...\u001b[0m   \n",
       "\u001b[1;36m3\u001b[0m    \u001b[4;94mhttps://www.camara.leg.br/internet/deputado/ba...\u001b[0m   \n",
       "\u001b[1;36m4\u001b[0m    \u001b[4;94mhttps://www.camara.leg.br/internet/deputado/ba...\u001b[0m   \n",
       "..                                                 \u001b[33m...\u001b[0m   \n",
       "\u001b[1;36m508\u001b[0m  \u001b[4;94mhttps://www.camara.leg.br/internet/deputado/ba...\u001b[0m   \n",
       "\u001b[1;36m509\u001b[0m  \u001b[4;94mhttps://www.camara.leg.br/internet/deputado/ba...\u001b[0m   \n",
       "\u001b[1;36m510\u001b[0m  \u001b[4;94mhttps://www.camara.leg.br/internet/deputado/ba...\u001b[0m   \n",
       "\u001b[1;36m511\u001b[0m  \u001b[4;94mhttps://www.camara.leg.br/internet/deputado/ba...\u001b[0m   \n",
       "\u001b[1;36m512\u001b[0m  \u001b[4;94mhttps://www.camara.leg.br/internet/deputado/ba...\u001b[0m   \n",
       "\n",
       "                                email  \n",
       "\u001b[1;36m0\u001b[0m     dep.acaciofavacho@camara.leg.br  \n",
       "\u001b[1;36m1\u001b[0m        dep.adailfilho@camara.leg.br  \n",
       "\u001b[1;36m2\u001b[0m    dep.adilsonbarroso@camara.leg.br  \n",
       "\u001b[1;36m3\u001b[0m       dep.adolfoviana@camara.leg.br  \n",
       "\u001b[1;36m4\u001b[0m    dep.adrianaventura@camara.leg.br  \n",
       "..                                \u001b[33m...\u001b[0m  \n",
       "\u001b[1;36m508\u001b[0m        dep.zetrovao@camara.leg.br  \n",
       "\u001b[1;36m509\u001b[0m         dep.zevitor@camara.leg.br  \n",
       "\u001b[1;36m510\u001b[0m      dep.zecadirceu@camara.leg.br  \n",
       "\u001b[1;36m511\u001b[0m  dep.zezinhobarbary@camara.leg.br  \n",
       "\u001b[1;36m512\u001b[0m           dep.zucco@camara.leg.br  \n",
       "\n",
       "\u001b[1m[\u001b[0m\u001b[1;36m513\u001b[0m rows x \u001b[1;36m9\u001b[0m columns\u001b[1m]\u001b[0m"
      ]
     },
     "execution_count": 3,
     "metadata": {},
     "output_type": "execute_result"
    }
   ],
   "source": [
    "df_data"
   ]
  },
  {
   "cell_type": "code",
   "execution_count": 6,
   "id": "ae49cc8a-e519-47bf-bbc1-3a0b97527923",
   "metadata": {},
   "outputs": [
    {
     "name": "stdout",
     "output_type": "stream",
     "text": [
      "<class 'pandas.core.frame.DataFrame'>\n",
      "RangeIndex: 513 entries, 0 to 512\n",
      "Data columns (total 9 columns):\n",
      " #   Column         Non-Null Count  Dtype \n",
      "---  ------         --------------  ----- \n",
      " 0   id             513 non-null    int64 \n",
      " 1   uri            513 non-null    object\n",
      " 2   nome           513 non-null    object\n",
      " 3   siglaPartido   513 non-null    object\n",
      " 4   uriPartido     513 non-null    object\n",
      " 5   siglaUf        513 non-null    object\n",
      " 6   idLegislatura  513 non-null    int64 \n",
      " 7   urlFoto        513 non-null    object\n",
      " 8   email          513 non-null    object\n",
      "dtypes: int64(2), object(7)\n",
      "memory usage: 36.2+ KB\n"
     ]
    }
   ],
   "source": [
    "df_data.info()"
   ]
  },
  {
   "cell_type": "code",
   "execution_count": 7,
   "id": "04cf0f54-3e94-4d83-86f5-e77cb8ec62b6",
   "metadata": {
    "editable": true,
    "slideshow": {
     "slide_type": ""
    },
    "tags": []
   },
   "outputs": [
    {
     "data": {
      "text/html": [
       "<pre style=\"white-space:pre;overflow-x:auto;line-height:normal;font-family:Menlo,'DejaVu Sans Mono',consolas,'Courier New',monospace\"></pre>\n"
      ],
      "text/plain": []
     },
     "metadata": {},
     "output_type": "display_data"
    },
    {
     "data": {
      "text/plain": [
       "\n",
       "email\n",
       "dep.acaciofavacho@camara.leg.br      \u001b[1;36m1\u001b[0m\n",
       "dep.jorgegoetten@camara.leg.br       \u001b[1;36m1\u001b[0m\n",
       "dep.matheusnoronha@camara.leg.br     \u001b[1;36m1\u001b[0m\n",
       "dep.marxbeltrao@camara.leg.br        \u001b[1;36m1\u001b[0m\n",
       "dep.marussaboldrin@camara.leg.br     \u001b[1;36m1\u001b[0m\n",
       "                                    ..\n",
       "dep.elmarnascimento@camara.leg.br    \u001b[1;36m1\u001b[0m\n",
       "dep.eliborges@camara.leg.br          \u001b[1;36m1\u001b[0m\n",
       "dep.elcionebarbalho@camara.leg.br    \u001b[1;36m1\u001b[0m\n",
       "dep.eduardovelloso@camara.leg.br     \u001b[1;36m1\u001b[0m\n",
       "dep.zucco@camara.leg.br              \u001b[1;36m1\u001b[0m\n",
       "Name: count, Length: \u001b[1;36m513\u001b[0m, dtype: int64"
      ]
     },
     "execution_count": 7,
     "metadata": {},
     "output_type": "execute_result"
    }
   ],
   "source": [
    "df_data[\"email\"].value_counts()"
   ]
  },
  {
   "cell_type": "code",
   "execution_count": null,
   "id": "e23c43d1-76c8-4f76-8cce-cabac3885ae0",
   "metadata": {},
   "outputs": [],
   "source": []
  }
 ],
 "metadata": {
  "kernelspec": {
   "display_name": "Kedro (exemplokedro)",
   "language": "python",
   "name": "kedro_exemplokedro"
  },
  "language_info": {
   "codemirror_mode": {
    "name": "ipython",
    "version": 3
   },
   "file_extension": ".py",
   "mimetype": "text/x-python",
   "name": "python",
   "nbconvert_exporter": "python",
   "pygments_lexer": "ipython3",
   "version": "3.9.21"
  }
 },
 "nbformat": 4,
 "nbformat_minor": 5
}
