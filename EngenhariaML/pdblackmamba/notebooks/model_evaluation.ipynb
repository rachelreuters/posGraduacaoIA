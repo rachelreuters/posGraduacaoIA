{
 "cells": [
  {
   "cell_type": "code",
   "execution_count": 10,
   "metadata": {},
   "outputs": [
    {
     "name": "stdout",
     "output_type": "stream",
     "text": [
      "{'0.0': {'precision': 0.6706099815157116, 'recall': 0.9994490358126722, 'f1-score': 0.8026548672566372, 'support': 3630.0}, '1.0': {'precision': 0.0, 'recall': 0.0, 'f1-score': 0.0, 'support': 1782.0}, 'accuracy': 0.6703621581670363, 'macro avg': {'precision': 0.3353049907578558, 'recall': 0.4997245179063361, 'f1-score': 0.4013274336283186, 'support': 5412.0}, 'weighted avg': {'precision': 0.44979937784590407, 'recall': 0.6703621581670363, 'f1-score': 0.538366069501403, 'support': 5412.0}}\n"
     ]
    }
   ],
   "source": [
    "import requests\n",
    "import pandas as pd\n",
    "import os\n",
    "import mlflow\n",
    "from sklearn.metrics import classification_report\n",
    "import numpy as np\n",
    "\n",
    "current_path = os.path.dirname(os.getcwd())\n",
    "\n",
    "file_path = current_path+\"/data/01_raw/dataset_kobe_prod.parquet\"\n",
    "data = pd.read_parquet(file_path)\n",
    "\n",
    "\n",
    "data_filtered = data.dropna()\n",
    "\n",
    "X_test = data_filtered[['lat','lon','minutes_remaining','period','playoffs','shot_distance']]\n",
    "Y_test = data_filtered[['shot_made_flag']]\n",
    "\n",
    "\n",
    "response = requests.post('http://127.0.0.1:5001/invocations', json= {'inputs': X_test.values.tolist() }  )\n",
    "\n",
    "\n",
    "predict = response.json()\n",
    "\n",
    "\n",
    "y_pred = predict['predictions']\n",
    "\n",
    "\n",
    "performance_teste = classification_report(Y_test, y_pred, output_dict=True)\n",
    "\n",
    "print(performance_teste)\n",
    "\n",
    "\n"
   ]
  },
  {
   "cell_type": "code",
   "execution_count": 11,
   "metadata": {},
   "outputs": [
    {
     "data": {
      "text/plain": [
       "{'0.0': {'precision': 0.6706099815157116,\n",
       "  'recall': 0.9994490358126722,\n",
       "  'f1-score': 0.8026548672566372,\n",
       "  'support': 3630.0},\n",
       " '1.0': {'precision': 0.0, 'recall': 0.0, 'f1-score': 0.0, 'support': 1782.0},\n",
       " 'accuracy': 0.6703621581670363,\n",
       " 'macro avg': {'precision': 0.3353049907578558,\n",
       "  'recall': 0.4997245179063361,\n",
       "  'f1-score': 0.4013274336283186,\n",
       "  'support': 5412.0},\n",
       " 'weighted avg': {'precision': 0.44979937784590407,\n",
       "  'recall': 0.6703621581670363,\n",
       "  'f1-score': 0.538366069501403,\n",
       "  'support': 5412.0}}"
      ]
     },
     "execution_count": 11,
     "metadata": {},
     "output_type": "execute_result"
    }
   ],
   "source": [
    "performance_teste"
   ]
  },
  {
   "cell_type": "code",
   "execution_count": 17,
   "metadata": {},
   "outputs": [
    {
     "name": "stderr",
     "output_type": "stream",
     "text": [
      "c:\\Users\\belch\\anaconda3\\envs\\kedro_py311\\Lib\\site-packages\\mlflow\\store\\artifact\\utils\\models.py:32: FutureWarning: ``mlflow.tracking.client.MlflowClient.get_latest_versions`` is deprecated since 2.9.0. Model registry stages will be removed in a future major release. To learn more about the deprecation of model registry stages, see our migration guide here: https://mlflow.org/docs/latest/model-registry.html#migrating-from-stages\n",
      "  latest = client.get_latest_versions(name, None if stage is None else [stage])\n"
     ]
    },
    {
     "name": "stdout",
     "output_type": "stream",
     "text": [
      "             Feature  Importance  Absolute Importance\n",
      "0                lat   -0.846998             0.846998\n",
      "1                lon   -0.248672             0.248672\n",
      "5      shot_distance   -0.051740             0.051740\n",
      "3             period   -0.047133             0.047133\n",
      "4           playoffs    0.016535             0.016535\n",
      "2  minutes_remaining    0.000894             0.000894\n"
     ]
    },
    {
     "data": {
      "image/png": "[encoded data removed]",
      "text/plain": [
       "<Figure size 640x480 with 1 Axes>"
      ]
     },
     "metadata": {},
     "output_type": "display_data"
    }
   ],
   "source": [
    "import matplotlib.pyplot as plt\n",
    "\n",
    "current_path = os.path.dirname(os.getcwd())\n",
    "\n",
    "file_path = current_path+\"/mlruns\"\n",
    "\n",
    "mlflow.set_tracking_uri(f\"file:///{file_path}\") \n",
    "\n",
    "model_uri = \"models:/kobe_lr_model_prod/latest\"  \n",
    "\n",
    "   \n",
    "model = mlflow.sklearn.load_model(model_uri)\n",
    "\n",
    "feature_names = ['lat','lon','minutes_remaining','period','playoffs','shot_distance']\n",
    "coefficients = model.coef_[0]  \n",
    "feature_importance = pd.DataFrame({\n",
    "    \"Feature\": feature_names,\n",
    "    \"Importance\": coefficients\n",
    "})\n",
    "feature_importance[\"Absolute Importance\"] = np.abs(feature_importance[\"Importance\"])\n",
    "feature_importance = feature_importance.sort_values(by=\"Absolute Importance\", ascending=False)\n",
    "\n",
    "# Display feature importance\n",
    "print(feature_importance)\n",
    "\n",
    "plt.barh(y=feature_names, width=feature_importance['Importance'].values)\n",
    "plt.show()"
   ]
  }
 ],
 "metadata": {
  "kernelspec": {
   "display_name": "kedro_py311",
   "language": "python",
   "name": "python3"
  },
  "language_info": {
   "codemirror_mode": {
    "name": "ipython",
    "version": 3
   },
   "file_extension": ".py",
   "mimetype": "text/x-python",
   "name": "python",
   "nbconvert_exporter": "python",
   "pygments_lexer": "ipython3",
   "version": "3.11.11"
  }
 },
 "nbformat": 4,
 "nbformat_minor": 2
}
